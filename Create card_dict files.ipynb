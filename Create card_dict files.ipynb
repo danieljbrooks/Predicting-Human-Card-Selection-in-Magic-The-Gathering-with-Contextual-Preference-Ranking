{
 "cells": [
  {
   "cell_type": "markdown",
   "metadata": {},
   "source": [
    "## Let's first fix card name issues. \n",
    "danielbrooks20@gmail.com  "
   ]
  },
  {
   "cell_type": "code",
   "execution_count": 1,
   "metadata": {},
   "outputs": [],
   "source": [
    "import pandas as pd\n",
    "\n",
    "import re\n",
    "from typing import Dict"
   ]
  },
  {
   "cell_type": "code",
   "execution_count": 2,
   "metadata": {},
   "outputs": [],
   "source": [
    "# Load draft data in string format. \n",
    "\n",
    "old_train_path = \"Data/original_train.csv\"\n",
    "new_train_path = \"Data/train.csv\"\n",
    "\n",
    "old_test_path = \"Data/original_test.csv\"\n",
    "new_test_path = \"Data/test.csv\"\n",
    "\n",
    "with open(old_train_path, \"r\") as f:\n",
    "    train_text = f.read()\n",
    "    \n",
    "with open(old_test_path, \"r\") as f:\n",
    "    test_text = f.read()"
   ]
  },
  {
   "cell_type": "code",
   "execution_count": 3,
   "metadata": {},
   "outputs": [],
   "source": [
    "# Grab the m19 rating tsv from our repo for card names. \n",
    "# Get ready to remove commas. \n",
    "df_set = pd.read_csv(\"Data/m19_rating.tsv\", delimiter = \"\\t\")\n",
    "bad_to_good_name = {row[\"Name\"] : re.sub(\",\", \"\", row[\"Name\"]) for i, row in df_set.iterrows() if \",\" in row[\"Name\"]}"
   ]
  },
  {
   "cell_type": "code",
   "execution_count": 4,
   "metadata": {},
   "outputs": [],
   "source": [
    "def fix_text(text: str, bad_to_good_name: Dict = bad_to_good_name) -> str:\n",
    "\n",
    "    # Fix land names. \n",
    "    land_names = [\"Forest\", \"Island\", \"Mountain\", \"Plains\", \"Swamp\"]\n",
    "    for name in land_names:\n",
    "        text = re.sub(f\"{name}_\\d\", name, text)\n",
    "\n",
    "    # Fix names with commas.     \n",
    "    for bad_name in bad_to_good_name:\n",
    "        text = re.sub(bad_name, bad_to_good_name[bad_name], text)\n",
    "    \n",
    "    return text"
   ]
  },
  {
   "cell_type": "code",
   "execution_count": 5,
   "metadata": {},
   "outputs": [],
   "source": [
    "train_text = fix_text(train_text)\n",
    "test_text = fix_text(test_text)"
   ]
  },
  {
   "cell_type": "code",
   "execution_count": 6,
   "metadata": {},
   "outputs": [],
   "source": [
    "with open(new_train_path, \"w\") as f:\n",
    "    f.write(train_text)\n",
    "with open(new_test_path, \"w\") as f:\n",
    "    f.write(test_text)"
   ]
  },
  {
   "cell_type": "markdown",
   "metadata": {},
   "source": [
    "## Create card_dict files\n",
    "Create card_dict files needed to interact with loading codebase (on the new, fixed dataset).\n",
    "\n",
    "I believe card_dict has the form ```{card_name (str) : card_number (int)}``` (or swapped keys and values). "
   ]
  },
  {
   "cell_type": "code",
   "execution_count": 7,
   "metadata": {},
   "outputs": [],
   "source": [
    "import pickle"
   ]
  },
  {
   "cell_type": "code",
   "execution_count": 8,
   "metadata": {},
   "outputs": [],
   "source": [
    "import preprocess # Local file. \n",
    "card_dict = preprocess.create_dict(\"Data/train.csv\")"
   ]
  },
  {
   "cell_type": "code",
   "execution_count": 9,
   "metadata": {},
   "outputs": [],
   "source": [
    "# Write to pickle file. \n",
    "with open('Data/card_dict.pt', 'wb') as handle:\n",
    "    pickle.dump(card_dict, handle, protocol=pickle.HIGHEST_PROTOCOL)"
   ]
  },
  {
   "cell_type": "code",
   "execution_count": 10,
   "metadata": {},
   "outputs": [],
   "source": [
    "# Load card dict. \n",
    "with open('Data/card_dict.pt', 'rb') as handle:\n",
    "    b = pickle.load(handle)\n",
    "# print(b)"
   ]
  }
 ],
 "metadata": {
  "kernelspec": {
   "display_name": "Python 3",
   "language": "python",
   "name": "python3"
  },
  "language_info": {
   "codemirror_mode": {
    "name": "ipython",
    "version": 3
   },
   "file_extension": ".py",
   "mimetype": "text/x-python",
   "name": "python",
   "nbconvert_exporter": "python",
   "pygments_lexer": "ipython3",
   "version": "3.6.12"
  }
 },
 "nbformat": 4,
 "nbformat_minor": 2
}
